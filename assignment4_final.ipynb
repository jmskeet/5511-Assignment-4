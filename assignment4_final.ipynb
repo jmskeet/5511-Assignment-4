{
 "cells": [
  {
   "cell_type": "markdown",
   "id": "c00fc08d",
   "metadata": {},
   "source": [
    "# Assignment 4 - NLP Disaster Tweets Kaggle Mini Project"
   ]
  },
  {
   "cell_type": "markdown",
   "id": "a5a73e40",
   "metadata": {},
   "source": [
    "## Description\n",
    "\n",
    "This project is a binary text classification. The goal of this project is to develop a recurring nueral network model that can accurately identify Tweets whose content relates to a real disaster from those that do not. The data is provided by the Kaggle Natural Language Processing with Disaster Tweets Competition and located at https://www.kaggle.com/c/nlp-getting-started/overview.\n",
    "\n",
    "\n",
    "## Data Summary\n",
    "The data consists of training and test data.  The train.csv file contains the training data comprised of an id, keyword, location, Tweet text and ground truth labels. There are 7613 rows in the training data.  The test.csv file contains the test data comprised of an id, keyword, location, Tweet text, however it does not include a label. There are 3263 rows in the test data. The sample_submission.csv contains the ids of the test Tweets and sampleground truth labels. The labeles are to be replaced with test results and submitted for assessment of the model."
   ]
  },
  {
   "cell_type": "code",
   "execution_count": 16,
   "id": "c2fd15d5",
   "metadata": {
    "scrolled": true
   },
   "outputs": [
    {
     "name": "stdout",
     "output_type": "stream",
     "text": [
      "Requirement already satisfied: pandas in c:\\users\\john.stronks\\appdata\\local\\anaconda3\\lib\\site-packages (1.5.3)\n",
      "Requirement already satisfied: emoji in c:\\users\\john.stronks\\appdata\\local\\anaconda3\\lib\\site-packages (2.8.0)\n",
      "Requirement already satisfied: python-dateutil>=2.8.1 in c:\\users\\john.stronks\\appdata\\local\\anaconda3\\lib\\site-packages (from pandas) (2.8.2)\n",
      "Requirement already satisfied: pytz>=2020.1 in c:\\users\\john.stronks\\appdata\\local\\anaconda3\\lib\\site-packages (from pandas) (2022.7)\n",
      "Requirement already satisfied: numpy>=1.21.0 in c:\\users\\john.stronks\\appdata\\local\\anaconda3\\lib\\site-packages (from pandas) (1.23.5)\n",
      "Requirement already satisfied: six>=1.5 in c:\\users\\john.stronks\\appdata\\local\\anaconda3\\lib\\site-packages (from python-dateutil>=2.8.1->pandas) (1.16.0)\n",
      "Requirement already satisfied: nltk in c:\\users\\john.stronks\\appdata\\local\\anaconda3\\lib\\site-packages (3.7)\n",
      "Requirement already satisfied: joblib in c:\\users\\john.stronks\\appdata\\roaming\\python\\python310\\site-packages (from nltk) (1.2.0)\n",
      "Requirement already satisfied: click in c:\\users\\john.stronks\\appdata\\local\\anaconda3\\lib\\site-packages (from nltk) (8.0.4)\n",
      "Requirement already satisfied: regex>=2021.8.3 in c:\\users\\john.stronks\\appdata\\local\\anaconda3\\lib\\site-packages (from nltk) (2022.7.9)\n",
      "Requirement already satisfied: tqdm in c:\\users\\john.stronks\\appdata\\local\\anaconda3\\lib\\site-packages (from nltk) (4.64.1)\n",
      "Requirement already satisfied: colorama in c:\\users\\john.stronks\\appdata\\roaming\\python\\python310\\site-packages (from click->nltk) (0.4.6)\n"
     ]
    }
   ],
   "source": [
    "!pip install pandas emoji\n",
    "!pip install nltk"
   ]
  },
  {
   "cell_type": "code",
   "execution_count": 1,
   "id": "6dc401d9",
   "metadata": {
    "scrolled": true
   },
   "outputs": [
    {
     "data": {
      "text/html": [
       "<style>.container { width:100% !important; }</style>"
      ],
      "text/plain": [
       "<IPython.core.display.HTML object>"
      ]
     },
     "metadata": {},
     "output_type": "display_data"
    }
   ],
   "source": [
    "#Set Page Width to 100%\n",
    "from IPython.display import display, HTML\n",
    "display(HTML(\"<style>.container { width:100% !important; }</style>\"))"
   ]
  },
  {
   "cell_type": "code",
   "execution_count": 2,
   "id": "6217c9be",
   "metadata": {
    "scrolled": true
   },
   "outputs": [],
   "source": [
    "#Load Required Resources\n",
    "\n",
    "import numpy as np \n",
    "import pandas as pd \n",
    "import os\n",
    "import matplotlib.pyplot as plt\n",
    "import seaborn as sns\n",
    "import math\n",
    "from sklearn import metrics\n",
    "from sklearn.model_selection import train_test_split\n",
    "\n",
    "import tensorflow as tf\n",
    "from tensorflow.keras.preprocessing import text, sequence\n",
    "from tensorflow.keras.layers import TextVectorization\n",
    "from tensorflow.keras import models\n",
    "from tensorflow.python.keras.layers import LSTM, Dense, Conv2D, MaxPooling2D, Dropout, Activation, Flatten, Embedding\n",
    "from tensorflow.python.keras.models import Sequential\n",
    "from tensorflow.keras.layers import BatchNormalization\n",
    "from tensorflow.keras.layers import Bidirectional\n",
    "from keras.optimizers import Adam\n",
    "from tensorflow.keras.layers import*"
   ]
  },
  {
   "cell_type": "code",
   "execution_count": 3,
   "id": "caf7823c",
   "metadata": {
    "scrolled": false
   },
   "outputs": [
    {
     "name": "stdout",
     "output_type": "stream",
     "text": [
      "   id keyword location                                               text  \\\n",
      "0   1     NaN      NaN  Our Deeds are the Reason of this #earthquake M...   \n",
      "1   4     NaN      NaN             Forest fire near La Ronge Sask. Canada   \n",
      "2   5     NaN      NaN  All residents asked to 'shelter in place' are ...   \n",
      "3   6     NaN      NaN  13,000 people receive #wildfires evacuation or...   \n",
      "4   7     NaN      NaN  Just got sent this photo from Ruby #Alaska as ...   \n",
      "\n",
      "   target  \n",
      "0       1  \n",
      "1       1  \n",
      "2       1  \n",
      "3       1  \n",
      "4       1   \n",
      "\n",
      "<class 'pandas.core.frame.DataFrame'>\n",
      "RangeIndex: 7613 entries, 0 to 7612\n",
      "Data columns (total 5 columns):\n",
      " #   Column    Non-Null Count  Dtype \n",
      "---  ------    --------------  ----- \n",
      " 0   id        7613 non-null   int64 \n",
      " 1   keyword   7552 non-null   object\n",
      " 2   location  5080 non-null   object\n",
      " 3   text      7613 non-null   object\n",
      " 4   target    7613 non-null   int64 \n",
      "dtypes: int64(2), object(3)\n",
      "memory usage: 297.5+ KB\n",
      "None \n",
      "\n",
      "Train Shape:  (7613, 5) \n",
      "\n",
      "   id keyword location                                               text\n",
      "0   0     NaN      NaN                 Just happened a terrible car crash\n",
      "1   2     NaN      NaN  Heard about #earthquake is different cities, s...\n",
      "2   3     NaN      NaN  there is a forest fire at spot pond, geese are...\n",
      "3   9     NaN      NaN           Apocalypse lighting. #Spokane #wildfires\n",
      "4  11     NaN      NaN      Typhoon Soudelor kills 28 in China and Taiwan \n",
      "\n",
      "<class 'pandas.core.frame.DataFrame'>\n",
      "RangeIndex: 3263 entries, 0 to 3262\n",
      "Data columns (total 4 columns):\n",
      " #   Column    Non-Null Count  Dtype \n",
      "---  ------    --------------  ----- \n",
      " 0   id        3263 non-null   int64 \n",
      " 1   keyword   3237 non-null   object\n",
      " 2   location  2158 non-null   object\n",
      " 3   text      3263 non-null   object\n",
      "dtypes: int64(1), object(3)\n",
      "memory usage: 102.1+ KB\n",
      "None\n",
      "Test Shape:  (3263, 4) \n",
      "\n"
     ]
    }
   ],
   "source": [
    "## Import Data\n",
    "train_df = pd.read_csv(\"train.csv\")\n",
    "test_df = pd.read_csv(\"test.csv \")\n",
    "\n",
    "print(train_df.head(), '\\n')\n",
    "print(train_df.info(), '\\n')\n",
    "print('Train Shape: ', train_df.shape, '\\n')\n",
    "print(test_df.head(), '\\n')\n",
    "print(test_df.info())\n",
    "print('Test Shape: ', test_df.shape, '\\n')"
   ]
  },
  {
   "cell_type": "markdown",
   "id": "e0ec8a1a",
   "metadata": {},
   "source": [
    "### EDA"
   ]
  },
  {
   "cell_type": "markdown",
   "id": "63bc73d6",
   "metadata": {},
   "source": [
    "EDA will be performed as follows:\n",
    "\n",
    "    1. Remove unnecessary columns (keyword and location)\n",
    "    2. Check for NaNs and Nulls in remaining columns\n",
    "    3. Understand distributions of data sets\n",
    "    4. Cleanse test strings\n",
    "        - Remove Hyperlinks\n",
    "        - Remove Punctuation\n",
    "        - Remove Stop Words\n",
    "        - Convert to all lower case\n",
    "    \n",
    "Columns keyword and location are irrelevent to the analysis and therefore removed from the data sets.\n",
    "\n",
    "**Drop keyword and location**"
   ]
  },
  {
   "cell_type": "code",
   "execution_count": 4,
   "id": "f5672811",
   "metadata": {
    "scrolled": true
   },
   "outputs": [
    {
     "name": "stdout",
     "output_type": "stream",
     "text": [
      "   id                                               text  target\n",
      "0   1  Our Deeds are the Reason of this #earthquake M...       1\n",
      "1   4             Forest fire near La Ronge Sask. Canada       1\n",
      "2   5  All residents asked to 'shelter in place' are ...       1\n",
      "3   6  13,000 people receive #wildfires evacuation or...       1\n",
      "4   7  Just got sent this photo from Ruby #Alaska as ...       1 \n",
      "\n",
      "   id                                               text\n",
      "0   0                 Just happened a terrible car crash\n",
      "1   2  Heard about #earthquake is different cities, s...\n",
      "2   3  there is a forest fire at spot pond, geese are...\n",
      "3   9           Apocalypse lighting. #Spokane #wildfires\n",
      "4  11      Typhoon Soudelor kills 28 in China and Taiwan\n"
     ]
    }
   ],
   "source": [
    "# drop key and location \n",
    "\n",
    "train_df = train_df.drop(['keyword', 'location'], axis=1)\n",
    "test_df = test_df.drop(['keyword', 'location'], axis=1)\n",
    "\n",
    "print(train_df.head(), '\\n')\n",
    "print(test_df.head())"
   ]
  },
  {
   "cell_type": "markdown",
   "id": "a1c1f3fb",
   "metadata": {},
   "source": [
    "**Check for Nulls**"
   ]
  },
  {
   "cell_type": "code",
   "execution_count": 5,
   "id": "4d0f5555",
   "metadata": {
    "scrolled": true
   },
   "outputs": [
    {
     "name": "stdout",
     "output_type": "stream",
     "text": [
      "Train id NaNs / Null Count:  0 \n",
      "\n",
      "Test id NaNs / Null Count:  0 \n",
      "\n",
      "Train text NaNs / Null Count:  0 \n",
      "\n",
      "Train text NaNs / Null Count:  0 \n",
      "\n"
     ]
    }
   ],
   "source": [
    "#Check for NaNs and Nulls\n",
    "print('Train id NaNs / Null Count: ', train_df['id'].isna().sum(), '\\n')\n",
    "print('Test id NaNs / Null Count: ', train_df['id'].isna().sum(), '\\n')\n",
    "print('Train text NaNs / Null Count: ', train_df['text'].isna().sum(), '\\n')\n",
    "print('Train text NaNs / Null Count: ', train_df['text'].isna().sum(), '\\n')"
   ]
  },
  {
   "cell_type": "markdown",
   "id": "dc90108e",
   "metadata": {},
   "source": [
    "**Label Distributions**"
   ]
  },
  {
   "cell_type": "code",
   "execution_count": 6,
   "id": "0e469076",
   "metadata": {
    "scrolled": false
   },
   "outputs": [
    {
     "data": {
      "image/png": "[encoded data removed]",
      "text/plain": [
       "<Figure size 640x480 with 1 Axes>"
      ]
     },
     "metadata": {},
     "output_type": "display_data"
    },
    {
     "name": "stdout",
     "output_type": "stream",
     "text": [
      "0 Label:  4342\n",
      "1 Label:  3271\n"
     ]
    },
    {
     "data": {
      "image/png": "[encoded data removed]",
      "text/plain": [
       "<Figure size 640x480 with 1 Axes>"
      ]
     },
     "metadata": {},
     "output_type": "display_data"
    }
   ],
   "source": [
    "plt.figure()\n",
    "sns.countplot(data=train_df, x='target', palette=['#ff0000',\"#008000\"])\n",
    "plt.title('Chart 1: Distribution of Target Labels')\n",
    "plt.show()\n",
    "\n",
    "target_0 = train_df[\"target\"].value_counts()[0]\n",
    "target_1 = train_df[\"target\"].value_counts()[1]\n",
    "print('0 Label: ', target_0)\n",
    "print('1 Label: ', target_1)\n",
    "\n",
    "plt.figure()\n",
    "plt.pie([target_0, target_1], labels=[0,1], autopct='%.0f%%')\n",
    "plt.title('Chart 2: Distribution of Target Labels')\n",
    "plt.show()\n"
   ]
  },
  {
   "cell_type": "markdown",
   "id": "242976c4",
   "metadata": {},
   "source": [
    "### Cleanse Data"
   ]
  },
  {
   "cell_type": "markdown",
   "id": "a26ed0d9",
   "metadata": {},
   "source": [
    "**Remove Hyperlinks**"
   ]
  },
  {
   "cell_type": "code",
   "execution_count": 7,
   "id": "1d9b9575",
   "metadata": {
    "scrolled": true
   },
   "outputs": [
    {
     "name": "stdout",
     "output_type": "stream",
     "text": [
      "Before\n",
      "@bbcmtd Wholesale Markets ablaze http://t.co/lHYXEOHY6C\n",
      "#3: Car Recorder ZeroEdgeå¨ Dual-lens Car Camera Vehicle Traffic/Driving History/Accident Camcorder  Large Re... http://t.co/kKFaSJv6Cj\n",
      "After\n",
      "@bbcmtd Wholesale Markets ablaze \n",
      "#3: Car Recorder ZeroEdgeå¨ Dual-lens Car Camera Vehicle Traffic/Driving History/Accident Camcorder  Large Re... \n"
     ]
    }
   ],
   "source": [
    "import re\n",
    "\n",
    "print('Before')\n",
    "print(train_df['text'][31])\n",
    "print(test_df['text'][32])\n",
    "\n",
    "train_df['text'] = train_df['text'].apply(lambda x:  re.sub(r'https?:\\/\\/\\S+', '', x))\n",
    "test_df['text'] = test_df['text'].apply(lambda x:  re.sub(r'https?:\\/\\/\\S+', '', x))\n",
    "\n",
    "print('After')\n",
    "print(train_df['text'][31])\n",
    "print(test_df['text'][32])\n"
   ]
  },
  {
   "cell_type": "markdown",
   "id": "66d56187",
   "metadata": {},
   "source": [
    "**Remove Punctuation**"
   ]
  },
  {
   "cell_type": "code",
   "execution_count": 8,
   "id": "33726680",
   "metadata": {
    "scrolled": true
   },
   "outputs": [
    {
     "name": "stdout",
     "output_type": "stream",
     "text": [
      "   id                                               text  target\n",
      "0   1  Our Deeds are the Reason of this earthquake Ma...       1\n",
      "1   4              Forest fire near La Ronge Sask Canada       1\n",
      "2   5  All residents asked to shelter in place are be...       1\n",
      "3   6  13000 people receive wildfires evacuation orde...       1\n",
      "4   7  Just got sent this photo from Ruby Alaska as s...       1 /n\n",
      "   id                                               text\n",
      "0   0                 Just happened a terrible car crash\n",
      "1   2  Heard about earthquake is different cities sta...\n",
      "2   3  there is a forest fire at spot pond geese are ...\n",
      "3   9              Apocalypse lighting Spokane wildfires\n",
      "4  11      Typhoon Soudelor kills 28 in China and Taiwan\n"
     ]
    },
    {
     "name": "stderr",
     "output_type": "stream",
     "text": [
      "C:\\Users\\John.Stronks\\AppData\\Local\\Temp\\1\\ipykernel_16108\\2543514056.py:1: FutureWarning: The default value of regex will change from True to False in a future version.\n",
      "  train_df['text'] = train_df['text'].str.replace(r'[^\\w\\s]+', '')\n",
      "C:\\Users\\John.Stronks\\AppData\\Local\\Temp\\1\\ipykernel_16108\\2543514056.py:2: FutureWarning: The default value of regex will change from True to False in a future version.\n",
      "  test_df['text'] = test_df['text'].str.replace(r'[^\\w\\s]+', '')\n"
     ]
    }
   ],
   "source": [
    "train_df['text'] = train_df['text'].str.replace(r'[^\\w\\s]+', '')\n",
    "test_df['text'] = test_df['text'].str.replace(r'[^\\w\\s]+', '')\n",
    "print(train_df.head(), '/n')\n",
    "print(test_df.head())"
   ]
  },
  {
   "cell_type": "markdown",
   "id": "f72794fa",
   "metadata": {},
   "source": [
    "**Remove Stop Words**"
   ]
  },
  {
   "cell_type": "code",
   "execution_count": 9,
   "id": "4eebf46f",
   "metadata": {
    "scrolled": true
   },
   "outputs": [
    {
     "name": "stdout",
     "output_type": "stream",
     "text": [
      "   id                                               text  target\n",
      "0   1   Our Deeds Reason earthquake May ALLAH Forgive us       1\n",
      "1   4              Forest fire near La Ronge Sask Canada       1\n",
      "2   5  All residents asked shelter place notified off...       1\n",
      "3   6  13000 people receive wildfires evacuation orde...       1\n",
      "4   7  Just got sent photo Ruby Alaska smoke wildfire...       1 /n\n",
      "   id                                               text\n",
      "0   0                   Just happened terrible car crash\n",
      "1   2  Heard earthquake different cities stay safe ev...\n",
      "2   3  forest fire spot pond geese fleeing across str...\n",
      "3   9              Apocalypse lighting Spokane wildfires\n",
      "4  11             Typhoon Soudelor kills 28 China Taiwan\n"
     ]
    }
   ],
   "source": [
    "import nltk\n",
    "#nltk.download('stopwords')\n",
    "from nltk.corpus import stopwords\n",
    "  \n",
    "stop_words = stopwords.words('english')\n",
    "train_df['text'] = train_df['text'].apply(lambda x: ' '.join([word for word in x.split() if word not in (stop_words)]))\n",
    "test_df['text'] = test_df['text'].apply(lambda x: ' '.join([word for word in x.split() if word not in (stop_words)]))\n",
    "print(train_df.head(), '/n')\n",
    "print(test_df.head())\n"
   ]
  },
  {
   "cell_type": "markdown",
   "id": "303fc557",
   "metadata": {},
   "source": [
    "**Convert to all lower case**"
   ]
  },
  {
   "cell_type": "code",
   "execution_count": 10,
   "id": "3cd69dd1",
   "metadata": {
    "scrolled": true
   },
   "outputs": [
    {
     "name": "stdout",
     "output_type": "stream",
     "text": [
      "Before\n",
      "bbcmtd Wholesale Markets ablaze\n",
      "3 Car Recorder ZeroEdgeå Duallens Car Camera Vehicle TrafficDriving HistoryAccident Camcorder Large Re\n",
      "After\n",
      "bbcmtd wholesale markets ablaze\n",
      "3 car recorder zeroedgeå duallens car camera vehicle trafficdriving historyaccident camcorder large re\n"
     ]
    }
   ],
   "source": [
    "print('Before')\n",
    "print(train_df['text'][31])\n",
    "print(test_df['text'][32])\n",
    "\n",
    "train_df['text'] = train_df['text'].apply(lambda x:  x.lower())\n",
    "test_df['text'] = test_df['text'].apply(lambda x:  x.lower())\n",
    "\n",
    "print('After')\n",
    "print(train_df['text'][31])\n",
    "print(test_df['text'][32])"
   ]
  },
  {
   "cell_type": "markdown",
   "id": "a175bf0a",
   "metadata": {},
   "source": [
    "### Models\n",
    "\n",
    "Model Architecture - Long-Short Term Memory (LSTM)\n",
    "\n",
    "The LSTM model is built around the recurring neural networks (RNN) architecture.  RNNs are neural networks that are capable of analyzing sequential or time series data.  The LSTM is based on a network of gates and feedback loops between nodes and layers.  These gates and feedback loops result in the ability of the network to maintain information over time, where the time frames vary.  The ability to maintain both short- and long-term information allows the network to contextualize the information.  The contextualization characteristic brings the network closer to analyzing information as a human would. \n",
    "This makes LSTM models especially adept at analyzing sequential data such a speech or text recognition.  We will use the LSTM model to analyze and categorize texts in this project.  The goal of the LSTM is to properly characterize texts as disaster related or not.  The LSTM model will use training and learned context within the texts to characterize each text. \n",
    "\n",
    "The basic LSTM first initializes the text sequence through an encoder.  The encoder transforms the character text strings in to linear arrays based on encoder parameters.  The encoded sequences then pass through various LSTM layers and dense layers to generate a characterization of the text. \n",
    "\n",
    "This project will compare two LTSM model architecture, based on accuracy, to see which architecture provides the better performance.  The first model will be a basic LSTM model with and embedding(encoding) layer, a bi-directional LSTM layer, followed by a dense layer with leru activation.  Then pass to a dense layer of one that feeds the characterization layer with sigmoid activation for characterization purposes.\n",
    " \n",
    "The second model will bracket the LSTM layer with a spatial dropout and dropout layer.  The purpose of the addition of the dropout layers is to assess the impact on potential overfitting in the base model.\n",
    "\n",
    "Transfer learning will not be deployed as to get a better feel for how well the base models learn and characterize from raw inputs.\n",
    "\n",
    "Various epoch counts were reviewed with 15 being the sweet spot for observing the model differences, while maintaining a reasonable run time.\n",
    "\n",
    "\n",
    "#### Simple LSTM Model"
   ]
  },
  {
   "cell_type": "code",
   "execution_count": 15,
   "id": "93d7058e",
   "metadata": {
    "scrolled": false
   },
   "outputs": [
    {
     "name": "stdout",
     "output_type": "stream",
     "text": [
      "Maximum Text Length:  139\n",
      "Training Shape:  (5329, 139)\n",
      "Sample:  [   0    0    0    0    0    0    0    0    0    0    0    0    0    0\n",
      "    0    0    0    0    0    0    0    0    0    0    0    0    0    0\n",
      "    0    0    0    0    0    0    0    0    0    0    0    0    0    0\n",
      "    0    0    0    0    0    0    0    0    0    0    0    0    0    0\n",
      "    0    0    0    0    0    0    0    0    0    0    0    0    0    0\n",
      "    0    0    0    0    0    0    0    0    0    0    0    0    0    0\n",
      "    0    0    0    0    0    0    0    0    0    0    0    0    0    0\n",
      "    0    0    0    0    0    0    0    0    0    0    0    0    0    0\n",
      "    0    0    0    0    0    0    0    0    0    0    0    0    0    0\n",
      "    0    0    0    0 3519 1057 5398  968  969  239  373 3520 2660]\n",
      "Model: \"sequential_3\"\n",
      "_________________________________________________________________\n",
      "Layer (type)                 Output Shape              Param #   \n",
      "=================================================================\n",
      "module_wrapper_19 (ModuleWra (5329, 139, 64)           960000    \n",
      "_________________________________________________________________\n",
      "module_wrapper_20 (ModuleWra (5329, 128)               66048     \n",
      "_________________________________________________________________\n",
      "module_wrapper_21 (ModuleWra (5329, 64)                8256      \n",
      "_________________________________________________________________\n",
      "module_wrapper_22 (ModuleWra (5329, 1)                 65        \n",
      "_________________________________________________________________\n",
      "module_wrapper_23 (ModuleWra (5329, 1)                 0         \n",
      "=================================================================\n",
      "Total params: 1,034,369\n",
      "Trainable params: 1,034,369\n",
      "Non-trainable params: 0\n",
      "_________________________________________________________________\n",
      "Epoch 1/15\n",
      "167/167 - 36s - loss: 0.5635 - accuracy: 0.6999 - val_loss: 0.2911 - val_accuracy: 0.8951\n",
      "Epoch 2/15\n",
      "167/167 - 31s - loss: 0.2897 - accuracy: 0.8853 - val_loss: 0.1469 - val_accuracy: 0.9527\n",
      "Epoch 3/15\n",
      "167/167 - 29s - loss: 0.1557 - accuracy: 0.9454 - val_loss: 0.0904 - val_accuracy: 0.9779\n",
      "Epoch 4/15\n",
      "167/167 - 33s - loss: 0.0963 - accuracy: 0.9696 - val_loss: 0.0549 - val_accuracy: 0.9831\n",
      "Epoch 5/15\n",
      "167/167 - 34s - loss: 0.0717 - accuracy: 0.9773 - val_loss: 0.0446 - val_accuracy: 0.9840\n",
      "Epoch 6/15\n",
      "167/167 - 35s - loss: 0.0585 - accuracy: 0.9801 - val_loss: 0.0372 - val_accuracy: 0.9854\n",
      "Epoch 7/15\n",
      "167/167 - 39s - loss: 0.0460 - accuracy: 0.9818 - val_loss: 0.0307 - val_accuracy: 0.9859\n",
      "Epoch 8/15\n",
      "167/167 - 37s - loss: 0.0410 - accuracy: 0.9797 - val_loss: 0.0262 - val_accuracy: 0.9884\n",
      "Epoch 9/15\n",
      "167/167 - 38s - loss: 0.0380 - accuracy: 0.9820 - val_loss: 0.0249 - val_accuracy: 0.9872\n",
      "Epoch 10/15\n",
      "167/167 - 47s - loss: 0.0296 - accuracy: 0.9837 - val_loss: 0.0237 - val_accuracy: 0.9863\n",
      "Epoch 11/15\n",
      "167/167 - 36s - loss: 0.0288 - accuracy: 0.9840 - val_loss: 0.0239 - val_accuracy: 0.9869\n",
      "Epoch 12/15\n",
      "167/167 - 33s - loss: 0.0344 - accuracy: 0.9829 - val_loss: 0.0239 - val_accuracy: 0.9876\n",
      "Epoch 13/15\n",
      "167/167 - 33s - loss: 0.0290 - accuracy: 0.9837 - val_loss: 0.0230 - val_accuracy: 0.9874\n",
      "Epoch 14/15\n",
      "167/167 - 34s - loss: 0.0254 - accuracy: 0.9850 - val_loss: 0.0220 - val_accuracy: 0.9886\n",
      "Epoch 15/15\n",
      "167/167 - 33s - loss: 0.0268 - accuracy: 0.9842 - val_loss: 0.0250 - val_accuracy: 0.9859\n"
     ]
    }
   ],
   "source": [
    "#Split the training data\n",
    "x_training_set, x_validation_set, target_train, target_validation= train_test_split(train_df['text'].values, train_df['target'].values, random_state=25, test_size=0.3, shuffle=True)\n",
    "\n",
    "\n",
    "max_length_text = train_df.text.map(len).max()\n",
    "print('Maximum Text Length: ', max_length_text)\n",
    "dict_size = 15000\n",
    "embedding_size = 64\n",
    "#Set Up tokenizer\n",
    "\n",
    "tokenizer = text.Tokenizer(num_words = dict_size)\n",
    "tokenizer.fit_on_texts(x_training_set)\n",
    "\n",
    "word_index = tokenizer.word_index\n",
    "\n",
    "sequence_x_training_set = tokenizer.texts_to_sequences(x_training_set)\n",
    "sequence_x_validation_set = tokenizer.texts_to_sequences(x_validation_set)\n",
    "sequence_x_test_set = tokenizer.texts_to_sequences(test_df['text'].values)\n",
    "\n",
    "sequence_x_training_set_padded = sequence.pad_sequences(sequence_x_training_set, maxlen=max_length_text)\n",
    "sequence_x_validation_set_padded = sequence.pad_sequences(sequence_x_validation_set, maxlen=max_length_text)\n",
    "sequence_x_test_set_padded = sequence.pad_sequences(sequence_x_test_set, maxlen=max_length_text)\n",
    "\n",
    "print('Training Shape: ', sequence_x_training_set_padded.shape)\n",
    "print('Sample: ', sequence_x_training_set_padded[0])\n",
    "\n",
    "#Hyperparameter Tuning variables\n",
    "dropout_rate = .2\n",
    "recurrent_dropout_rate = .2\n",
    "num_epochs = 15\n",
    "\n",
    "model = Sequential()\n",
    "\n",
    "model.add(Embedding(dict_size, embedding_size, input_length=max_length_text))\n",
    "model.add(Bidirectional(tf.keras.layers.LSTM(64, dropout = dropout_rate, recurrent_dropout=recurrent_dropout_rate)))\n",
    "model.add(Dense(embedding_size, activation='relu'))\n",
    "model.add(Dense(1))\n",
    "model.add(Activation('sigmoid'))\n",
    "\n",
    "input_shape = sequence_x_training_set_padded.shape  \n",
    "model.build(input_shape) \n",
    "\n",
    "model.summary()\n",
    "\n",
    "model.compile(loss='binary_crossentropy', optimizer='adam', metrics=['accuracy'])\n",
    "\n",
    "history = model.fit(sequence_x_training_set_padded, np.asarray(target_train), epochs=num_epochs, validation_data=(sequence_x_training_set_padded, np.asarray(target_train)), verbose=2)"
   ]
  },
  {
   "cell_type": "markdown",
   "id": "81cb2891",
   "metadata": {},
   "source": [
    "#### Complex LSTM Model\n",
    "Increase the complexity of the previous model by adding a Spatial Dropout layer and a Dropout layer around the LSTM layer.  The addtional layers are intended to help provide increased accurracy while attempting to protect agaist over fitting."
   ]
  },
  {
   "cell_type": "code",
   "execution_count": 16,
   "id": "97f514d8",
   "metadata": {
    "scrolled": false
   },
   "outputs": [
    {
     "name": "stdout",
     "output_type": "stream",
     "text": [
      "Model: \"sequential_4\"\n",
      "_________________________________________________________________\n",
      "Layer (type)                 Output Shape              Param #   \n",
      "=================================================================\n",
      "module_wrapper_24 (ModuleWra (5329, 139, 64)           960000    \n",
      "_________________________________________________________________\n",
      "module_wrapper_25 (ModuleWra (5329, 139, 64)           0         \n",
      "_________________________________________________________________\n",
      "module_wrapper_26 (ModuleWra (5329, 128)               66048     \n",
      "_________________________________________________________________\n",
      "module_wrapper_27 (ModuleWra (5329, 128)               0         \n",
      "_________________________________________________________________\n",
      "module_wrapper_28 (ModuleWra (5329, 64)                8256      \n",
      "_________________________________________________________________\n",
      "module_wrapper_29 (ModuleWra (5329, 1)                 65        \n",
      "_________________________________________________________________\n",
      "module_wrapper_30 (ModuleWra (5329, 1)                 0         \n",
      "=================================================================\n",
      "Total params: 1,034,369\n",
      "Trainable params: 1,034,369\n",
      "Non-trainable params: 0\n",
      "_________________________________________________________________\n",
      "Epoch 1/15\n",
      "167/167 - 41s - loss: 0.6004 - accuracy: 0.6622 - val_loss: 0.3589 - val_accuracy: 0.8525\n",
      "Epoch 2/15\n",
      "167/167 - 32s - loss: 0.3621 - accuracy: 0.8497 - val_loss: 0.2182 - val_accuracy: 0.9266\n",
      "Epoch 3/15\n",
      "167/167 - 30s - loss: 0.2379 - accuracy: 0.9099 - val_loss: 0.1356 - val_accuracy: 0.9557\n",
      "Epoch 4/15\n",
      "167/167 - 31s - loss: 0.1604 - accuracy: 0.9428 - val_loss: 0.0869 - val_accuracy: 0.9704\n",
      "Epoch 5/15\n",
      "167/167 - 43s - loss: 0.1201 - accuracy: 0.9587 - val_loss: 0.0715 - val_accuracy: 0.9775\n",
      "Epoch 6/15\n",
      "167/167 - 36s - loss: 0.0953 - accuracy: 0.9696 - val_loss: 0.0563 - val_accuracy: 0.9829\n",
      "Epoch 7/15\n",
      "167/167 - 36s - loss: 0.0855 - accuracy: 0.9741 - val_loss: 0.0500 - val_accuracy: 0.9852\n",
      "Epoch 8/15\n",
      "167/167 - 37s - loss: 0.0738 - accuracy: 0.9771 - val_loss: 0.0459 - val_accuracy: 0.9846\n",
      "Epoch 9/15\n",
      "167/167 - 42s - loss: 0.0708 - accuracy: 0.9777 - val_loss: 0.0410 - val_accuracy: 0.9859\n",
      "Epoch 10/15\n",
      "167/167 - 40s - loss: 0.0710 - accuracy: 0.9775 - val_loss: 0.0506 - val_accuracy: 0.9831\n",
      "Epoch 11/15\n",
      "167/167 - 59s - loss: 0.0648 - accuracy: 0.9775 - val_loss: 0.0353 - val_accuracy: 0.9865\n",
      "Epoch 12/15\n",
      "167/167 - 56s - loss: 0.0558 - accuracy: 0.9822 - val_loss: 0.0322 - val_accuracy: 0.9869\n",
      "Epoch 13/15\n",
      "167/167 - 41s - loss: 0.0532 - accuracy: 0.9814 - val_loss: 0.0302 - val_accuracy: 0.9876\n",
      "Epoch 14/15\n",
      "167/167 - 40s - loss: 0.0552 - accuracy: 0.9810 - val_loss: 0.0318 - val_accuracy: 0.9869\n",
      "Epoch 15/15\n",
      "167/167 - 40s - loss: 0.0476 - accuracy: 0.9822 - val_loss: 0.0277 - val_accuracy: 0.9872\n"
     ]
    }
   ],
   "source": [
    "model_complex = Sequential()\n",
    "\n",
    "model_complex.add(Embedding(dict_size, embedding_size, input_length=max_length_text))\n",
    "model_complex.add(SpatialDropout1D(0.5))  ## addtional layer\n",
    "model_complex.add(Bidirectional(tf.keras.layers.LSTM(64, dropout = dropout_rate, recurrent_dropout=recurrent_dropout_rate)))\n",
    "model_complex.add(Dropout(0.2)) ## addtional layer\n",
    "model_complex.add(Dense(embedding_size, activation='relu'))\n",
    "model_complex.add(Dense(1))\n",
    "model_complex.add(Activation('sigmoid'))\n",
    "\n",
    "input_shape = sequence_x_training_set_padded.shape  \n",
    "model_complex.build(input_shape) \n",
    "\n",
    "model_complex.summary()\n",
    "\n",
    "model_complex.compile(loss='binary_crossentropy', optimizer='adam', metrics=['accuracy'])\n",
    "\n",
    "comlex_history = model_complex.fit(sequence_x_training_set_padded, np.asarray(target_train), epochs=num_epochs, validation_data=(sequence_x_training_set_padded, np.asarray(target_train)), verbose=2)\n"
   ]
  },
  {
   "cell_type": "markdown",
   "id": "6103ab01",
   "metadata": {},
   "source": [
    "### Model Comparison"
   ]
  },
  {
   "cell_type": "code",
   "execution_count": 20,
   "id": "1a3ee5f9",
   "metadata": {},
   "outputs": [
    {
     "data": {
      "image/png": "[encoded data removed]",
      "text/plain": [
       "<Figure size 1000x1000 with 2 Axes>"
      ]
     },
     "metadata": {},
     "output_type": "display_data"
    },
    {
     "data": {
      "image/png": "[encoded data removed]",
      "text/plain": [
       "<Figure size 1000x1000 with 2 Axes>"
      ]
     },
     "metadata": {},
     "output_type": "display_data"
    }
   ],
   "source": [
    "#Simple Model\n",
    "model_accuracy = history.history['accuracy']\n",
    "model_val_acc = history.history['val_accuracy']\n",
    "model_loss = history.history['loss']\n",
    "model_val_loss = history.history['val_loss']\n",
    "\n",
    "epochs_range = range(num_epochs)\n",
    "\n",
    "plt.figure(figsize=(10, 10))\n",
    "plt.subplot(2, 2, 1)\n",
    "plt.plot(epochs_range, model_accuracy, label='Training Accuracy')\n",
    "plt.plot(epochs_range, model_val_acc, label='Validation Accuracy')\n",
    "plt.legend(loc='lower right')\n",
    "plt.title('Plo1 1: Simple Model Accuracy')\n",
    "\n",
    "plt.subplot(2, 2, 2)\n",
    "plt.plot(epochs_range, model_loss, label='Training Loss')\n",
    "plt.plot(epochs_range, model_val_loss, label='Validation Loss')\n",
    "plt.legend(loc='upper center')\n",
    "plt.title('Plot 2: Simple Model Loss')\n",
    "plt.show()\n",
    "\n",
    "#complex Model\n",
    "model_complex_accuracy = comlex_history.history['accuracy']\n",
    "model_complex_val_acc = comlex_history.history['val_accuracy']\n",
    "model_complex_loss = comlex_history.history['loss']\n",
    "model_complex_val_loss = comlex_history.history['val_loss']\n",
    "\n",
    "\n",
    "plt.figure(figsize=(10, 10))\n",
    "plt.subplot(2, 2, 1)\n",
    "plt.plot(epochs_range, model_complex_accuracy, label='Training Accuracy')\n",
    "plt.plot(epochs_range, model_complex_val_acc, label='Validation Accuracy')\n",
    "plt.legend(loc='lower center')\n",
    "plt.title('Plot 3: Complex Model Accuracy')\n",
    "\n",
    "plt.subplot(2, 2, 2)\n",
    "plt.plot(epochs_range, model_complex_loss, label='Training Loss')\n",
    "plt.plot(epochs_range, model_complex_val_loss, label='Validation Loss')\n",
    "plt.legend(loc='upper right')\n",
    "plt.title('Plot 4: Complex Model Loss')\n",
    "plt.show()"
   ]
  },
  {
   "cell_type": "markdown",
   "id": "b0d2bf67",
   "metadata": {},
   "source": [
    "**Table 1: Model Complexity vs Accuracy***\n",
    "\n",
    "|Model|Accuracy|Validation Accuracy|\n",
    "|:----|:--------:|:--------:|\n",
    "|Simple|.9842|.9889|\n",
    "|Complex|.9722|.9872|\n",
    "\n",
    "\n",
    "Plots 1 thru 4 provide a view of the training accuracy and loss metrics between the simple and complex LSTM models.  Based on the charts and table, increasing the complexity by adding the additional dropout layers negatively impacted the accuracy.  The more complex model showed ~1.5% degradation.  \n",
    "\n",
    "However, when looking closely at the plots at around the 8th epoch, the simple model’s accuracy and los begin to show signs of slight cavitation.  Additionally, by the 15th epoch the loss and accuracy of the base model are essentially identical.  \n",
    "\n",
    "Whereas the complex model’s accuracy and loss continue to converge with the gap between the two eventually leveling out around the 10th epoch.   \n",
    "Taking these two observations together it appears that the simple model is showing signs of overfitting while the complex model does not.  The implication being that adding the additional dropout layers aided in protecting the complex model from overfitting. \n",
    "\n",
    "\n",
    "\n",
    "### Hyperparameter Tuning\n",
    "\n",
    "Number of Epochs will be varied and the impact on accruacy assessed."
   ]
  },
  {
   "cell_type": "code",
   "execution_count": 58,
   "id": "95989464",
   "metadata": {
    "scrolled": false
   },
   "outputs": [
    {
     "name": "stdout",
     "output_type": "stream",
     "text": [
      "Model: \"sequential_22\"\n",
      "_________________________________________________________________\n",
      "Layer (type)                 Output Shape              Param #   \n",
      "=================================================================\n",
      "module_wrapper_132 (ModuleWr (5329, 139, 64)           960000    \n",
      "_________________________________________________________________\n",
      "module_wrapper_133 (ModuleWr (5329, 128)               66048     \n",
      "_________________________________________________________________\n",
      "module_wrapper_134 (ModuleWr (5329, 64)                8256      \n",
      "_________________________________________________________________\n",
      "module_wrapper_135 (ModuleWr (5329, 1)                 65        \n",
      "_________________________________________________________________\n",
      "module_wrapper_136 (ModuleWr (5329, 1)                 0         \n",
      "=================================================================\n",
      "Total params: 1,034,369\n",
      "Trainable params: 1,034,369\n",
      "Non-trainable params: 0\n",
      "_________________________________________________________________\n",
      "Epoch 1/5\n",
      "167/167 - 34s - loss: 0.5614 - accuracy: 0.7013 - val_loss: 0.3061 - val_accuracy: 0.8790\n",
      "Epoch 2/5\n",
      "167/167 - 36s - loss: 0.2865 - accuracy: 0.8853 - val_loss: 0.1298 - val_accuracy: 0.9568\n",
      "Epoch 3/5\n",
      "167/167 - 40s - loss: 0.1491 - accuracy: 0.9446 - val_loss: 0.0735 - val_accuracy: 0.9780\n",
      "Epoch 4/5\n",
      "167/167 - 39s - loss: 0.0946 - accuracy: 0.9700 - val_loss: 0.0562 - val_accuracy: 0.9829\n",
      "Epoch 5/5\n",
      "167/167 - 39s - loss: 0.0710 - accuracy: 0.9758 - val_loss: 0.0431 - val_accuracy: 0.9844\n",
      "Eochs:  5\n",
      "History:  {'loss': [0.5614140033721924, 0.2864967882633209, 0.149135023355484, 0.0946434885263443, 0.07098724693059921], 'accuracy': [0.7012572884559631, 0.8853443264961243, 0.9446425437927246, 0.9699755907058716, 0.9757928252220154], 'val_loss': [0.30607131123542786, 0.12984530627727509, 0.07354626059532166, 0.05617747828364372, 0.04307036101818085], 'val_accuracy': [0.8789641857147217, 0.956839919090271, 0.9780446887016296, 0.9829236268997192, 0.9844248294830322]}\n",
      "Model: \"sequential_23\"\n",
      "_________________________________________________________________\n",
      "Layer (type)                 Output Shape              Param #   \n",
      "=================================================================\n",
      "module_wrapper_137 (ModuleWr (5329, 139, 64)           960000    \n",
      "_________________________________________________________________\n",
      "module_wrapper_138 (ModuleWr (5329, 128)               66048     \n",
      "_________________________________________________________________\n",
      "module_wrapper_139 (ModuleWr (5329, 64)                8256      \n",
      "_________________________________________________________________\n",
      "module_wrapper_140 (ModuleWr (5329, 1)                 65        \n",
      "_________________________________________________________________\n",
      "module_wrapper_141 (ModuleWr (5329, 1)                 0         \n",
      "=================================================================\n",
      "Total params: 1,034,369\n",
      "Trainable params: 1,034,369\n",
      "Non-trainable params: 0\n",
      "_________________________________________________________________\n",
      "Epoch 1/10\n",
      "167/167 - 48s - loss: 0.5585 - accuracy: 0.7142 - val_loss: 0.3037 - val_accuracy: 0.8989\n",
      "Epoch 2/10\n",
      "167/167 - 43s - loss: 0.2814 - accuracy: 0.8913 - val_loss: 0.1523 - val_accuracy: 0.9606\n",
      "Epoch 3/10\n",
      "167/167 - 41s - loss: 0.1514 - accuracy: 0.9458 - val_loss: 0.0770 - val_accuracy: 0.9758\n",
      "Epoch 4/10\n",
      "167/167 - 41s - loss: 0.0971 - accuracy: 0.9698 - val_loss: 0.0629 - val_accuracy: 0.9820\n",
      "Epoch 5/10\n",
      "167/167 - 41s - loss: 0.0776 - accuracy: 0.9737 - val_loss: 0.0554 - val_accuracy: 0.9848\n",
      "Epoch 6/10\n",
      "167/167 - 42s - loss: 0.0624 - accuracy: 0.9794 - val_loss: 0.0371 - val_accuracy: 0.9863\n",
      "Epoch 7/10\n",
      "167/167 - 48s - loss: 0.0463 - accuracy: 0.9820 - val_loss: 0.0315 - val_accuracy: 0.9861\n",
      "Epoch 8/10\n",
      "167/167 - 48s - loss: 0.0359 - accuracy: 0.9827 - val_loss: 0.0266 - val_accuracy: 0.9867\n",
      "Epoch 9/10\n",
      "167/167 - 42s - loss: 0.0432 - accuracy: 0.9807 - val_loss: 0.0264 - val_accuracy: 0.9869\n",
      "Epoch 10/10\n",
      "167/167 - 41s - loss: 0.0362 - accuracy: 0.9810 - val_loss: 0.0271 - val_accuracy: 0.9865\n",
      "Eochs:  10\n",
      "History:  {'loss': [0.5584985017776489, 0.2814079821109772, 0.15138214826583862, 0.09710437804460526, 0.07755817472934723, 0.062390729784965515, 0.04626854136586189, 0.035866398364305496, 0.04322785511612892, 0.03619629144668579], 'accuracy': [0.714205265045166, 0.891349196434021, 0.945768415927887, 0.9697879552841187, 0.9737286567687988, 0.9793582558631897, 0.9819853901863098, 0.9827359914779663, 0.9806718230247498, 0.9810470938682556], 'val_loss': [0.3037181794643402, 0.15231981873512268, 0.07703056186437607, 0.062869131565094, 0.055403560400009155, 0.03707709535956383, 0.0315423458814621, 0.026636997237801552, 0.026371002197265625, 0.02713766135275364], 'val_accuracy': [0.8988553285598755, 0.9605929851531982, 0.9757928252220154, 0.9819853901863098, 0.9848001599311829, 0.9863013625144958, 0.9861137270927429, 0.9866766929626465, 0.9868643283843994, 0.9864889979362488]}\n",
      "Model: \"sequential_24\"\n",
      "_________________________________________________________________\n",
      "Layer (type)                 Output Shape              Param #   \n",
      "=================================================================\n",
      "module_wrapper_142 (ModuleWr (5329, 139, 64)           960000    \n",
      "_________________________________________________________________\n",
      "module_wrapper_143 (ModuleWr (5329, 128)               66048     \n",
      "_________________________________________________________________\n",
      "module_wrapper_144 (ModuleWr (5329, 64)                8256      \n",
      "_________________________________________________________________\n",
      "module_wrapper_145 (ModuleWr (5329, 1)                 65        \n",
      "_________________________________________________________________\n",
      "module_wrapper_146 (ModuleWr (5329, 1)                 0         \n",
      "=================================================================\n",
      "Total params: 1,034,369\n",
      "Trainable params: 1,034,369\n",
      "Non-trainable params: 0\n",
      "_________________________________________________________________\n",
      "Epoch 1/15\n",
      "167/167 - 54s - loss: 0.5589 - accuracy: 0.7020 - val_loss: 0.3012 - val_accuracy: 0.8923\n",
      "Epoch 2/15\n",
      "167/167 - 52s - loss: 0.2850 - accuracy: 0.8840 - val_loss: 0.1485 - val_accuracy: 0.9557\n",
      "Epoch 3/15\n",
      "167/167 - 47s - loss: 0.1496 - accuracy: 0.9463 - val_loss: 0.0842 - val_accuracy: 0.9773\n",
      "Epoch 4/15\n",
      "167/167 - 50s - loss: 0.0984 - accuracy: 0.9670 - val_loss: 0.0555 - val_accuracy: 0.9833\n",
      "Epoch 5/15\n",
      "167/167 - 48s - loss: 0.0778 - accuracy: 0.9741 - val_loss: 0.0445 - val_accuracy: 0.9850\n",
      "Epoch 6/15\n",
      "167/167 - 46s - loss: 0.0584 - accuracy: 0.9801 - val_loss: 0.0414 - val_accuracy: 0.9835\n",
      "Epoch 7/15\n",
      "167/167 - 54s - loss: 0.0517 - accuracy: 0.9803 - val_loss: 0.0379 - val_accuracy: 0.9848\n",
      "Epoch 8/15\n",
      "167/167 - 56s - loss: 0.0417 - accuracy: 0.9824 - val_loss: 0.0309 - val_accuracy: 0.9856\n",
      "Epoch 9/15\n",
      "167/167 - 65s - loss: 0.0366 - accuracy: 0.9839 - val_loss: 0.0293 - val_accuracy: 0.9863\n",
      "Epoch 10/15\n",
      "167/167 - 58s - loss: 0.0359 - accuracy: 0.9833 - val_loss: 0.0409 - val_accuracy: 0.9859\n",
      "Epoch 11/15\n",
      "167/167 - 61s - loss: 0.0437 - accuracy: 0.9797 - val_loss: 0.0251 - val_accuracy: 0.9869\n",
      "Epoch 12/15\n",
      "167/167 - 62s - loss: 0.0310 - accuracy: 0.9840 - val_loss: 0.0254 - val_accuracy: 0.9865\n",
      "Epoch 13/15\n",
      "167/167 - 57s - loss: 0.0283 - accuracy: 0.9837 - val_loss: 0.0229 - val_accuracy: 0.9874\n",
      "Epoch 14/15\n",
      "167/167 - 57s - loss: 0.0269 - accuracy: 0.9842 - val_loss: 0.0230 - val_accuracy: 0.9876\n",
      "Epoch 15/15\n",
      "167/167 - 50s - loss: 0.0248 - accuracy: 0.9846 - val_loss: 0.0212 - val_accuracy: 0.9884\n",
      "Eochs:  15\n",
      "History:  {'loss': [0.5588950514793396, 0.28500956296920776, 0.14960886538028717, 0.09843225032091141, 0.07783649116754532, 0.058436907827854156, 0.05170290917158127, 0.041731905192136765, 0.0365636833012104, 0.03591294586658478, 0.043717872351408005, 0.0310295931994915, 0.028256408870220184, 0.026917271316051483, 0.02480809949338436], 'accuracy': [0.7020078897476196, 0.8840307593345642, 0.9463313817977905, 0.9669731855392456, 0.9741039872169495, 0.9801088571548462, 0.9802964925765991, 0.9823606610298157, 0.9838618636131287, 0.9832989573478699, 0.9797335267066956, 0.9840495586395264, 0.9836742281913757, 0.9842371940612793, 0.9846125245094299], 'val_loss': [0.30117154121398926, 0.14850321412086487, 0.0841822698712349, 0.05548781156539917, 0.04454058036208153, 0.041394900530576706, 0.03793704882264137, 0.03088011033833027, 0.029310818761587143, 0.04090180993080139, 0.025051996111869812, 0.02536335214972496, 0.022923635318875313, 0.022966450080275536, 0.021172823384404182], 'val_accuracy': [0.8922874927520752, 0.9557140469551086, 0.9772940278053284, 0.9832989573478699, 0.9849877953529358, 0.9834865927696228, 0.9848001599311829, 0.9855507612228394, 0.9863013625144958, 0.98592609167099, 0.9868643283843994, 0.9864889979362488, 0.987427294254303, 0.9876149296760559, 0.9883655309677124]}\n"
     ]
    },
    {
     "name": "stdout",
     "output_type": "stream",
     "text": [
      "Model: \"sequential_25\"\n",
      "_________________________________________________________________\n",
      "Layer (type)                 Output Shape              Param #   \n",
      "=================================================================\n",
      "module_wrapper_147 (ModuleWr (5329, 139, 64)           960000    \n",
      "_________________________________________________________________\n",
      "module_wrapper_148 (ModuleWr (5329, 128)               66048     \n",
      "_________________________________________________________________\n",
      "module_wrapper_149 (ModuleWr (5329, 64)                8256      \n",
      "_________________________________________________________________\n",
      "module_wrapper_150 (ModuleWr (5329, 1)                 65        \n",
      "_________________________________________________________________\n",
      "module_wrapper_151 (ModuleWr (5329, 1)                 0         \n",
      "=================================================================\n",
      "Total params: 1,034,369\n",
      "Trainable params: 1,034,369\n",
      "Non-trainable params: 0\n",
      "_________________________________________________________________\n",
      "Epoch 1/20\n",
      "167/167 - 54s - loss: 0.5591 - accuracy: 0.7050 - val_loss: 0.3000 - val_accuracy: 0.8801\n",
      "Epoch 2/20\n",
      "167/167 - 50s - loss: 0.2854 - accuracy: 0.8874 - val_loss: 0.1411 - val_accuracy: 0.9583\n",
      "Epoch 3/20\n",
      "167/167 - 48s - loss: 0.1523 - accuracy: 0.9439 - val_loss: 0.0894 - val_accuracy: 0.9762\n",
      "Epoch 4/20\n",
      "167/167 - 47s - loss: 0.0937 - accuracy: 0.9675 - val_loss: 0.0549 - val_accuracy: 0.9831\n",
      "Epoch 5/20\n",
      "167/167 - 49s - loss: 0.0731 - accuracy: 0.9762 - val_loss: 0.0531 - val_accuracy: 0.9810\n",
      "Epoch 6/20\n",
      "167/167 - 49s - loss: 0.0584 - accuracy: 0.9788 - val_loss: 0.0375 - val_accuracy: 0.9863\n",
      "Epoch 7/20\n",
      "167/167 - 45s - loss: 0.0477 - accuracy: 0.9809 - val_loss: 0.0351 - val_accuracy: 0.9846\n",
      "Epoch 8/20\n",
      "167/167 - 46s - loss: 0.0412 - accuracy: 0.9822 - val_loss: 0.0337 - val_accuracy: 0.9857\n",
      "Epoch 9/20\n",
      "167/167 - 49s - loss: 0.0344 - accuracy: 0.9833 - val_loss: 0.0260 - val_accuracy: 0.9876\n",
      "Epoch 10/20\n",
      "167/167 - 43s - loss: 0.0322 - accuracy: 0.9833 - val_loss: 0.0258 - val_accuracy: 0.9878\n",
      "Epoch 11/20\n",
      "167/167 - 43s - loss: 0.0291 - accuracy: 0.9840 - val_loss: 0.0248 - val_accuracy: 0.9876\n",
      "Epoch 12/20\n",
      "167/167 - 44s - loss: 0.0308 - accuracy: 0.9835 - val_loss: 0.0231 - val_accuracy: 0.9874\n",
      "Epoch 13/20\n",
      "167/167 - 49s - loss: 0.0275 - accuracy: 0.9848 - val_loss: 0.0224 - val_accuracy: 0.9874\n",
      "Epoch 14/20\n",
      "167/167 - 46s - loss: 0.0283 - accuracy: 0.9854 - val_loss: 0.0216 - val_accuracy: 0.9882\n",
      "Epoch 15/20\n",
      "167/167 - 45s - loss: 0.0331 - accuracy: 0.9844 - val_loss: 0.0222 - val_accuracy: 0.9880\n",
      "Epoch 16/20\n",
      "167/167 - 45s - loss: 0.0253 - accuracy: 0.9856 - val_loss: 0.0214 - val_accuracy: 0.9880\n",
      "Epoch 17/20\n",
      "167/167 - 46s - loss: 0.0243 - accuracy: 0.9861 - val_loss: 0.0236 - val_accuracy: 0.9852\n",
      "Epoch 18/20\n",
      "167/167 - 45s - loss: 0.0249 - accuracy: 0.9856 - val_loss: 0.0217 - val_accuracy: 0.9882\n",
      "Epoch 19/20\n",
      "167/167 - 45s - loss: 0.0244 - accuracy: 0.9865 - val_loss: 0.0221 - val_accuracy: 0.9880\n",
      "Epoch 20/20\n",
      "167/167 - 46s - loss: 0.0245 - accuracy: 0.9859 - val_loss: 0.0225 - val_accuracy: 0.9882\n",
      "Eochs:  20\n",
      "History:  {'loss': [0.5590558052062988, 0.2853848934173584, 0.15233176946640015, 0.09367526322603226, 0.07306363433599472, 0.058415140956640244, 0.04771655052900314, 0.04124179482460022, 0.03442216292023659, 0.03222259506583214, 0.02914738468825817, 0.03076910600066185, 0.027469146996736526, 0.0282643623650074, 0.03310258314013481, 0.025263847783207893, 0.02430000901222229, 0.024867689236998558, 0.024443116039037704, 0.024477217346429825], 'accuracy': [0.7050102949142456, 0.8874084949493408, 0.9438918828964233, 0.9675361514091492, 0.976168155670166, 0.9787952899932861, 0.9808594584465027, 0.9821730256080627, 0.9832989573478699, 0.9832989573478699, 0.9840495586395264, 0.9834865927696228, 0.9848001599311829, 0.9853631258010864, 0.9844248294830322, 0.9855507612228394, 0.9861137270927429, 0.9855507612228394, 0.9864889979362488, 0.98592609167099], 'val_loss': [0.2999962568283081, 0.14114342629909515, 0.08939231932163239, 0.05491739884018898, 0.05307019501924515, 0.03753018379211426, 0.035120248794555664, 0.033700522035360336, 0.02599528059363365, 0.025758124887943268, 0.024822894483804703, 0.023097651079297066, 0.02237818017601967, 0.02163519896566868, 0.022177396342158318, 0.02141791209578514, 0.023563040420413017, 0.02166137658059597, 0.022070568054914474, 0.022538933902978897], 'val_accuracy': [0.880090057849884, 0.9583411812782288, 0.976168155670166, 0.9831112623214722, 0.9810470938682556, 0.9863013625144958, 0.9846125245094299, 0.9857383966445923, 0.9876149296760559, 0.9878025650978088, 0.9876149296760559, 0.987427294254303, 0.987427294254303, 0.9881778955459595, 0.9879902601242065, 0.9879902601242065, 0.9851754307746887, 0.9881778955459595, 0.9879902601242065, 0.9881778955459595]}\n"
     ]
    }
   ],
   "source": [
    "epoch_count = [5, 10, 15, 20]\n",
    "history = []\n",
    "\n",
    "for e in epoch_count:\n",
    "\n",
    "    num_epochs = e\n",
    "    \n",
    "    tune_model = Sequential()\n",
    "\n",
    "    tune_model.add(Embedding(dict_size, embedding_size, input_length=max_length_text))\n",
    "    tune_model.add(Bidirectional(tf.keras.layers.LSTM(64, dropout = dropout_rate, recurrent_dropout=recurrent_dropout_rate)))\n",
    "    tune_model.add(Dense(embedding_size, activation='relu'))\n",
    "    tune_model.add(Dense(1))\n",
    "    tune_model.add(Activation('sigmoid'))\n",
    "\n",
    "    input_shape = sequence_x_training_set_padded.shape  \n",
    "    tune_model.build(input_shape) \n",
    "\n",
    "    tune_model.summary()\n",
    "    \n",
    "    tune_model.compile(loss='binary_crossentropy', optimizer='adam', metrics=['accuracy'])\n",
    "    \n",
    "    tune_history = tune_model.fit(sequence_x_training_set_padded, np.asarray(target_train), epochs=num_epochs, validation_data=(sequence_x_training_set_padded, np.asarray(target_train)), verbose=2)\n",
    "\n",
    "    print('Eochs: ', e)\n",
    "    print('History: ', tune_history.history)\n",
    "    history.append(tune_history.history)"
   ]
  },
  {
   "cell_type": "markdown",
   "id": "62962cb5",
   "metadata": {},
   "source": [
    "### Hyperparameter Tuning Results"
   ]
  },
  {
   "cell_type": "code",
   "execution_count": 68,
   "id": "ce7dd646",
   "metadata": {},
   "outputs": [
    {
     "data": {
      "image/png": "[encoded data removed]",
      "text/plain": [
       "<Figure size 640x480 with 1 Axes>"
      ]
     },
     "metadata": {},
     "output_type": "display_data"
    }
   ],
   "source": [
    "\n",
    "e1 = [11, 10, 12, 14, 16, 19, 17, 14, 18, 17]\n",
    "x_e1 = range(0,5)\n",
    "x_e2 = range(0,10)\n",
    "x_e3 = range(0,15)\n",
    "x_e4 = range(0,20)\n",
    "\n",
    "fig, ax = plt.subplots()\n",
    "ax.plot(x_e1, history[0]['accuracy'], label='5 Epochs', color='blue')\n",
    "ax.plot(x_e2, history[1]['accuracy'], label='10 Epochs', color = 'red')\n",
    "ax.plot(x_e3, history[2]['accuracy'], label='15 Epochs', color='black')\n",
    "ax.plot(x_e4, history[3]['accuracy'], label='20 Epochs', color = 'orange')\n",
    "\n",
    "legend = ax.legend(loc='center right', fontsize='x-large')\n",
    "plt.xlabel('Epochs')\n",
    "plt.ylabel('Accuracy')\n",
    "plt.title('Plot 5: Comparison of  Epoch Count')\n",
    "plt.show()"
   ]
  },
  {
   "cell_type": "markdown",
   "id": "64d4687b",
   "metadata": {},
   "source": [
    "#### Accuracy Comparison\n",
    "**Table 2: Epoch COunt vs Accuracy***\n",
    "\n",
    "|Epoch Count|Accuracy|Validation Accuracy|\n",
    "|:----|:--------:|:--------:|\n",
    "|5|.9758|.9844|\n",
    "|10|.9810|.9865|\n",
    "|15|.9846|.9884|\n",
    "|20|.9859|.9882|\n",
    "\n",
    "As can be seen in Plot 5 and Table 2, increased epoch count provided a marginal impact to accuracy.  Increasing the epoch count from 5 to 20 realized a 1% increase in accuracy from 97.58% to 98.59% respectively.  Plot 5 also shows that the accuracy rate was not impacted by the number of epochs, all 4 cases climbed in accuracy at essentiall the same rate.\n",
    "\n",
    "GIven the margin improvement in test and validation accuracy, going with the 10-15 epochs is the best tradeoff given computational resources and model accuracy."
   ]
  },
  {
   "cell_type": "code",
   "execution_count": 21,
   "id": "172a30b7",
   "metadata": {},
   "outputs": [
    {
     "name": "stdout",
     "output_type": "stream",
     "text": [
      "102/102 [==============================] - 4s 19ms/step\n",
      "Test Shape:  (3263, 1) \n",
      "\n"
     ]
    }
   ],
   "source": [
    "#Get test set predictions\n",
    "target_test = model.predict(sequence_x_test_set_padded, verbose = 1)\n",
    "target_test\n",
    "print('Test Shape: ', target_test.shape, '\\n')"
   ]
  },
  {
   "cell_type": "code",
   "execution_count": null,
   "id": "8c186551",
   "metadata": {
    "scrolled": true
   },
   "outputs": [],
   "source": []
  },
  {
   "cell_type": "code",
   "execution_count": 22,
   "id": "480061f2",
   "metadata": {},
   "outputs": [
    {
     "name": "stdout",
     "output_type": "stream",
     "text": [
      "   id  target\n",
      "0   0       1\n",
      "1   2       1\n",
      "2   3       1\n",
      "3   9       1\n",
      "4  11       1\n"
     ]
    }
   ],
   "source": [
    "#Generate submission file\n",
    "test_submission = np.where(target_test <= 0.5, 0, 1)\n",
    "\n",
    "final_submission = np.transpose(test_submission)[0]\n",
    "final_submission = pd.DataFrame()\n",
    "final_submission['id'] = test_df['id']\n",
    "final_submission['target'] = test_submission\n",
    "print(final_submission.head())\n",
    "\n",
    "final_submission.to_csv('submission.csv', index=False)"
   ]
  },
  {
   "cell_type": "markdown",
   "id": "ca285084",
   "metadata": {},
   "source": [
    "### Conclusion"
   ]
  },
  {
   "cell_type": "markdown",
   "id": "7e3196ba",
   "metadata": {},
   "source": [
    "**Model Comparison**\n",
    "\n",
    "Over 15 epochs, comparisons of the simple and complex models showed marginal accuracy and loss differences.  The simple model performed slightly better with its final accuracy 1.2% better at 98.42%, then the complex model at 97.22%.\n",
    "\n",
    "However as outlined above, the simple model began to show signs of overfitting at around the 10th epoch, while the complex model did not.  Based on the analysis and discussion above, the conclusion is that the addition of the drop out layers to the complex model proved to be beneficial.  Given the marginal difference in performance and the overfitting protection on the complex model, the complex model is deemed the better of the two.\n",
    "\n",
    "\n",
    "**Hyper paramter Tuning**\n",
    "\n",
    "Hyper parameter tuning, varying the number of epochs, provided some insight into how epoch count impacted the model’s performance.  The total difference in performance across the 4 different epoch counts resulted in a maximum accuracy difference of 1.01% between 5 and 20 epochs.  The middle two epoch counts (10 and15) resulted in only a .36% difference in accuracy.\n",
    "When considering the essentially identical accuracy rate climb between models and the minimal accuracy differences, 10 epochs is deemed more than sufficient in getting good accuracy, while balancing computation effort.\n",
    "\n",
    "\n",
    "**Test Submission**\n",
    "\n",
    "Best model submission was 78.85%. Based on the much better performance of the training and validation models one can conclude that overfitting existed or that the test data was reasonably different from the training data set.  Most likely a combination of both.\n"
   ]
  },
  {
   "cell_type": "markdown",
   "id": "e0fb41f5",
   "metadata": {},
   "source": [
    "### References\n",
    "\n",
    "Remove Stop Words from Text in DataFrame Column, https://www.datasnips.com/58/remove-stop-words-from-text-in-dataframe-column/\n",
    "\n",
    "How to Remove URLs from Text in Python, https://bobbyhadz.com/blog/python-remove-url-from-text"
   ]
  },
  {
   "cell_type": "code",
   "execution_count": null,
   "id": "a2f47d0b",
   "metadata": {
    "scrolled": true
   },
   "outputs": [],
   "source": []
  }
 ],
 "metadata": {
  "kernelspec": {
   "display_name": "Python 3 (ipykernel)",
   "language": "python",
   "name": "python3"
  },
  "language_info": {
   "codemirror_mode": {
    "name": "ipython",
    "version": 3
   },
   "file_extension": ".py",
   "mimetype": "text/x-python",
   "name": "python",
   "nbconvert_exporter": "python",
   "pygments_lexer": "ipython3",
   "version": "3.10.9"
  }
 },
 "nbformat": 4,
 "nbformat_minor": 5
}
